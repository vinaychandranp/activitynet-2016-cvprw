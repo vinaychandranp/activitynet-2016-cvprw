{
    "cells": [
        {
            "cell_type": "code",
            "execution_count": 8,
            "metadata": {
                "collapsed": false,
                "id": "baaf3a63-34c6-4e95-b263-799d4c0bed2a",
                "focus": true
            },
            "outputs": [
                {
                    "name": "stdout",
                    "output_type": "stream",
                    "text": [
                        "/Users/Alberto/Development/DeepLearning/activitynet-2016-cvprw/data/activitynet\n"
                    ]
                }
            ],
            "source": [
                "% cd ../data/activitynet/"
            ]
        },
        {
            "cell_type": "code",
            "execution_count": null,
            "metadata": {
                "collapsed": true,
                "id": "fe7b5cef-76a3-47df-a741-c2f275195a8e",
                "focus": false
            },
            "outputs": [],
            "source": [
                "import os\n",
                "\n",
                "files = ['JDg--pjY5gg']\n",
                "num_frames = 3152\n",
                "\n",
                "for f in files:\n",
                "    os.system(\"ffmpeg -v warning -i {file}.mp4 -vf scale=112:112:flags=lanczos,palettegen \"\n",
                "              \"-y /tmp/{file}_palette.png\".format(file=f))\n",
                "    num_clips = 3152 // 16\n",
                "    for i in range(num_clips):\n",
                "        os.system(\"ffmpeg -v warning -i {file}.mp4 -i /tmp/{file}_palette.png -lavfi \"\n",
                "                  \"'trim=start_frame={s}:end_frame={e},scale=112:112:flags=lanczos \"\n",
                "                  \"[x]; [x][1:v] paletteuse' -y output_gifs/{file}_{s}.gif\".format(file=f,s=i*16,e=(i+1)*16))"
            ]
        },
        {
            "cell_type": "code",
            "execution_count": 7,
            "metadata": {
                "collapsed": false,
                "id": "068f40b7-3726-46c0-a8d9-874e17ebdeb5",
                "focus": false
            },
            "outputs": [
                {
                    "name": "stdout",
                    "output_type": "stream",
                    "text": [
                        "/Users/Alberto/Development/DeepLearning/activitynet-2016-cvprw/notebooks\n"
                    ]
                }
            ],
            "source": [
                "%%bash\n",
                "pwd"
            ]
        },
        {
            "cell_type": "code",
            "execution_count": null,
            "metadata": {
                "collapsed": true,
                "id": "9a1fd740-a2d2-4da3-aa46-485a7a78b8bb",
                "focus": false
            },
            "outputs": [],
            "source": []
        }
    ],
    "metadata": {
        "kernelspec": {
            "display_name": "Python 3",
            "language": "python",
            "name": "python3"
        },
        "language_info": {
            "codemirror_mode": {
                "name": "ipython",
                "version": 3
            },
            "file_extension": ".py",
            "mimetype": "text/x-python",
            "name": "python",
            "nbconvert_exporter": "python",
            "pygments_lexer": "ipython3",
            "version": "3.5.2"
        }
    },
    "nbformat": 4,
    "nbformat_minor": 0
}